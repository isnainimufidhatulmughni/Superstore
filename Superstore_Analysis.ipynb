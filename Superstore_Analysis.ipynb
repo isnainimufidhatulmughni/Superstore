{
  "cells": [
    {
      "cell_type": "code",
      "execution_count": 1,
      "metadata": {
        "colab": {
          "base_uri": "https://localhost:8080/"
        },
        "id": "ny-4YMlLBash",
        "outputId": "b151b3e7-8f20-41a2-f9df-806e8071dbad"
      },
      "outputs": [
        {
          "name": "stdout",
          "output_type": "stream",
          "text": [
            "numpy version :  2.0.0\n",
            "pandas version :  2.2.2\n",
            "seaborn version :  0.13.2\n"
          ]
        }
      ],
      "source": [
        "import numpy as np\n",
        "import pandas as pd\n",
        "import seaborn as sns\n",
        "import matplotlib.pyplot as plt\n",
        "import io\n",
        "\n",
        "pd.options.display.max_columns = 100\n",
        "\n",
        "print('numpy version : ',np.__version__)\n",
        "print('pandas version : ',pd.__version__)\n",
        "print('seaborn version : ',sns.__version__)"
      ]
    },
    {
      "cell_type": "markdown",
      "metadata": {
        "id": "tG4MYEuqBvUQ"
      },
      "source": [
        "## Load Dataset"
      ]
    },
    {
      "cell_type": "code",
      "execution_count": 2,
      "metadata": {
        "colab": {
          "base_uri": "https://localhost:8080/",
          "height": 469
        },
        "id": "4H4eAo9oBuH6",
        "outputId": "977486ba-925d-48e4-8a8b-a7121a626051"
      },
      "outputs": [
        {
          "data": {
            "text/html": [
              "<div>\n",
              "<style scoped>\n",
              "    .dataframe tbody tr th:only-of-type {\n",
              "        vertical-align: middle;\n",
              "    }\n",
              "\n",
              "    .dataframe tbody tr th {\n",
              "        vertical-align: top;\n",
              "    }\n",
              "\n",
              "    .dataframe thead th {\n",
              "        text-align: right;\n",
              "    }\n",
              "</style>\n",
              "<table border=\"1\" class=\"dataframe\">\n",
              "  <thead>\n",
              "    <tr style=\"text-align: right;\">\n",
              "      <th></th>\n",
              "      <th>order_id</th>\n",
              "      <th>order_date</th>\n",
              "      <th>ship_date</th>\n",
              "      <th>customer</th>\n",
              "      <th>manufactory</th>\n",
              "      <th>product_name</th>\n",
              "      <th>segment</th>\n",
              "      <th>category</th>\n",
              "      <th>subcategory</th>\n",
              "      <th>region</th>\n",
              "      <th>zip</th>\n",
              "      <th>city</th>\n",
              "      <th>state</th>\n",
              "      <th>country</th>\n",
              "      <th>discount</th>\n",
              "      <th>profit</th>\n",
              "      <th>quantity</th>\n",
              "      <th>sales</th>\n",
              "      <th>profit_margin</th>\n",
              "    </tr>\n",
              "  </thead>\n",
              "  <tbody>\n",
              "    <tr>\n",
              "      <th>0</th>\n",
              "      <td>US-2020-103800</td>\n",
              "      <td>1/3/2019</td>\n",
              "      <td>1/7/2019</td>\n",
              "      <td>Darren Powers</td>\n",
              "      <td>Message Book</td>\n",
              "      <td>Message Book, Wirebound, Four 5 1/2\" X 4\" Form...</td>\n",
              "      <td>Consumer</td>\n",
              "      <td>Office Supplies</td>\n",
              "      <td>Paper</td>\n",
              "      <td>Central</td>\n",
              "      <td>77095</td>\n",
              "      <td>Houston</td>\n",
              "      <td>Texas</td>\n",
              "      <td>United States</td>\n",
              "      <td>0.2</td>\n",
              "      <td>5.5512</td>\n",
              "      <td>2</td>\n",
              "      <td>16.448</td>\n",
              "      <td>0.3375</td>\n",
              "    </tr>\n",
              "    <tr>\n",
              "      <th>1</th>\n",
              "      <td>US-2020-112326</td>\n",
              "      <td>1/4/2019</td>\n",
              "      <td>1/8/2019</td>\n",
              "      <td>Phillina Ober</td>\n",
              "      <td>GBC</td>\n",
              "      <td>GBC Standard Plastic Binding Systems Combs</td>\n",
              "      <td>Home Office</td>\n",
              "      <td>Office Supplies</td>\n",
              "      <td>Binders</td>\n",
              "      <td>Central</td>\n",
              "      <td>60540</td>\n",
              "      <td>Naperville</td>\n",
              "      <td>Illinois</td>\n",
              "      <td>United States</td>\n",
              "      <td>0.8</td>\n",
              "      <td>-5.4870</td>\n",
              "      <td>2</td>\n",
              "      <td>3.540</td>\n",
              "      <td>-1.5500</td>\n",
              "    </tr>\n",
              "    <tr>\n",
              "      <th>2</th>\n",
              "      <td>US-2020-112326</td>\n",
              "      <td>1/4/2019</td>\n",
              "      <td>1/8/2019</td>\n",
              "      <td>Phillina Ober</td>\n",
              "      <td>Avery</td>\n",
              "      <td>Avery 508</td>\n",
              "      <td>Home Office</td>\n",
              "      <td>Office Supplies</td>\n",
              "      <td>Labels</td>\n",
              "      <td>Central</td>\n",
              "      <td>60540</td>\n",
              "      <td>Naperville</td>\n",
              "      <td>Illinois</td>\n",
              "      <td>United States</td>\n",
              "      <td>0.2</td>\n",
              "      <td>4.2717</td>\n",
              "      <td>3</td>\n",
              "      <td>11.784</td>\n",
              "      <td>0.3625</td>\n",
              "    </tr>\n",
              "    <tr>\n",
              "      <th>3</th>\n",
              "      <td>US-2020-112326</td>\n",
              "      <td>1/4/2019</td>\n",
              "      <td>1/8/2019</td>\n",
              "      <td>Phillina Ober</td>\n",
              "      <td>SAFCO</td>\n",
              "      <td>SAFCO Boltless Steel Shelving</td>\n",
              "      <td>Home Office</td>\n",
              "      <td>Office Supplies</td>\n",
              "      <td>Storage</td>\n",
              "      <td>Central</td>\n",
              "      <td>60540</td>\n",
              "      <td>Naperville</td>\n",
              "      <td>Illinois</td>\n",
              "      <td>United States</td>\n",
              "      <td>0.2</td>\n",
              "      <td>-64.7748</td>\n",
              "      <td>3</td>\n",
              "      <td>272.736</td>\n",
              "      <td>-0.2375</td>\n",
              "    </tr>\n",
              "    <tr>\n",
              "      <th>4</th>\n",
              "      <td>US-2020-141817</td>\n",
              "      <td>1/5/2019</td>\n",
              "      <td>1/12/2019</td>\n",
              "      <td>Mick Brown</td>\n",
              "      <td>Avery</td>\n",
              "      <td>Avery Hi-Liter EverBold Pen Style Fluorescent ...</td>\n",
              "      <td>Consumer</td>\n",
              "      <td>Office Supplies</td>\n",
              "      <td>Art</td>\n",
              "      <td>East</td>\n",
              "      <td>19143</td>\n",
              "      <td>Philadelphia</td>\n",
              "      <td>Pennsylvania</td>\n",
              "      <td>United States</td>\n",
              "      <td>0.2</td>\n",
              "      <td>4.8840</td>\n",
              "      <td>3</td>\n",
              "      <td>19.536</td>\n",
              "      <td>0.2500</td>\n",
              "    </tr>\n",
              "  </tbody>\n",
              "</table>\n",
              "</div>"
            ],
            "text/plain": [
              "         order_id order_date  ship_date       customer   manufactory  \\\n",
              "0  US-2020-103800   1/3/2019   1/7/2019  Darren Powers  Message Book   \n",
              "1  US-2020-112326   1/4/2019   1/8/2019  Phillina Ober           GBC   \n",
              "2  US-2020-112326   1/4/2019   1/8/2019  Phillina Ober         Avery   \n",
              "3  US-2020-112326   1/4/2019   1/8/2019  Phillina Ober         SAFCO   \n",
              "4  US-2020-141817   1/5/2019  1/12/2019     Mick Brown         Avery   \n",
              "\n",
              "                                        product_name      segment  \\\n",
              "0  Message Book, Wirebound, Four 5 1/2\" X 4\" Form...     Consumer   \n",
              "1         GBC Standard Plastic Binding Systems Combs  Home Office   \n",
              "2                                          Avery 508  Home Office   \n",
              "3                      SAFCO Boltless Steel Shelving  Home Office   \n",
              "4  Avery Hi-Liter EverBold Pen Style Fluorescent ...     Consumer   \n",
              "\n",
              "          category subcategory   region    zip          city         state  \\\n",
              "0  Office Supplies       Paper  Central  77095       Houston         Texas   \n",
              "1  Office Supplies     Binders  Central  60540    Naperville      Illinois   \n",
              "2  Office Supplies      Labels  Central  60540    Naperville      Illinois   \n",
              "3  Office Supplies     Storage  Central  60540    Naperville      Illinois   \n",
              "4  Office Supplies         Art     East  19143  Philadelphia  Pennsylvania   \n",
              "\n",
              "         country  discount   profit  quantity    sales  profit_margin  \n",
              "0  United States       0.2   5.5512         2   16.448         0.3375  \n",
              "1  United States       0.8  -5.4870         2    3.540        -1.5500  \n",
              "2  United States       0.2   4.2717         3   11.784         0.3625  \n",
              "3  United States       0.2 -64.7748         3  272.736        -0.2375  \n",
              "4  United States       0.2   4.8840         3   19.536         0.2500  "
            ]
          },
          "execution_count": 2,
          "metadata": {},
          "output_type": "execute_result"
        }
      ],
      "source": [
        "# Load dataset in Google Colab\n",
        "data_path = 'superstore_dataset.csv (1)\\superstore_dataset.csv'\n",
        "data = pd.read_csv(data_path)\n",
        "data.head()"
      ]
    },
    {
      "cell_type": "code",
      "execution_count": 3,
      "metadata": {
        "colab": {
          "base_uri": "https://localhost:8080/"
        },
        "id": "CLF-63QwDeXC",
        "outputId": "d52318bb-6bac-46e2-88ef-c8f0b2d673bf"
      },
      "outputs": [
        {
          "name": "stdout",
          "output_type": "stream",
          "text": [
            "<class 'pandas.core.frame.DataFrame'>\n",
            "RangeIndex: 9994 entries, 0 to 9993\n",
            "Data columns (total 19 columns):\n",
            " #   Column         Non-Null Count  Dtype  \n",
            "---  ------         --------------  -----  \n",
            " 0   order_id       9994 non-null   object \n",
            " 1   order_date     9994 non-null   object \n",
            " 2   ship_date      9994 non-null   object \n",
            " 3   customer       9994 non-null   object \n",
            " 4   manufactory    9994 non-null   object \n",
            " 5   product_name   9994 non-null   object \n",
            " 6   segment        9994 non-null   object \n",
            " 7   category       9994 non-null   object \n",
            " 8   subcategory    9994 non-null   object \n",
            " 9   region         9994 non-null   object \n",
            " 10  zip            9994 non-null   int64  \n",
            " 11  city           9994 non-null   object \n",
            " 12  state          9994 non-null   object \n",
            " 13  country        9994 non-null   object \n",
            " 14  discount       9994 non-null   float64\n",
            " 15  profit         9994 non-null   float64\n",
            " 16  quantity       9994 non-null   int64  \n",
            " 17  sales          9994 non-null   float64\n",
            " 18  profit_margin  9994 non-null   float64\n",
            "dtypes: float64(4), int64(2), object(13)\n",
            "memory usage: 1.4+ MB\n"
          ]
        }
      ],
      "source": [
        "data.info()"
      ]
    },
    {
      "cell_type": "markdown",
      "metadata": {
        "id": "hAWAMjB-Jz5W"
      },
      "source": [
        "Berdasarkan output diatas, dapat disimpulkan bahwa dataset tersebut, memiliki total: 19 kolom, dengan jumlah maksimal baris untuk setiap kolom sebanyak: 9988 baris."
      ]
    },
    {
      "cell_type": "markdown",
      "metadata": {
        "id": "4co6608Sb5g-"
      },
      "source": [
        "# Data Cleaning and Preparation"
      ]
    },
    {
      "cell_type": "code",
      "execution_count": 4,
      "metadata": {
        "id": "TNKEQ52gP_R5"
      },
      "outputs": [],
      "source": [
        "#change format 'sales', profit, to float\n",
        "#data['sales'] = data['sales'].str.replace(',', '.').astype(float)\n",
        "#data['profit'] = data['profit'].str.replace(',', '.').astype(float)\n",
        "#data['discount'] = data['discount'].str.replace('%', '').astype(float) / 100"
      ]
    },
    {
      "cell_type": "markdown",
      "metadata": {
        "id": "E-o1g_tFcE86"
      },
      "source": [
        "---\n",
        "Time Series\n",
        "\n",
        "---\n",
        "\n",
        "\n"
      ]
    },
    {
      "cell_type": "code",
      "execution_count": 5,
      "metadata": {
        "colab": {
          "base_uri": "https://localhost:8080/"
        },
        "id": "MfywHyM9cuCX",
        "outputId": "b4dc250e-eed4-4e40-bfb5-196ae66969e8"
      },
      "outputs": [
        {
          "name": "stdout",
          "output_type": "stream",
          "text": [
            "<class 'pandas.core.frame.DataFrame'>\n",
            "RangeIndex: 9994 entries, 0 to 9993\n",
            "Data columns (total 23 columns):\n",
            " #   Column         Non-Null Count  Dtype         \n",
            "---  ------         --------------  -----         \n",
            " 0   order_id       9994 non-null   object        \n",
            " 1   order_date     9994 non-null   datetime64[ns]\n",
            " 2   ship_date      9994 non-null   datetime64[ns]\n",
            " 3   customer       9994 non-null   object        \n",
            " 4   manufactory    9994 non-null   object        \n",
            " 5   product_name   9994 non-null   object        \n",
            " 6   segment        9994 non-null   object        \n",
            " 7   category       9994 non-null   object        \n",
            " 8   subcategory    9994 non-null   object        \n",
            " 9   region         9994 non-null   object        \n",
            " 10  zip            9994 non-null   int64         \n",
            " 11  city           9994 non-null   object        \n",
            " 12  state          9994 non-null   object        \n",
            " 13  country        9994 non-null   object        \n",
            " 14  discount       9994 non-null   float64       \n",
            " 15  profit         9994 non-null   float64       \n",
            " 16  quantity       9994 non-null   int64         \n",
            " 17  sales          9994 non-null   float64       \n",
            " 18  profit_margin  9994 non-null   float64       \n",
            " 19  order_year     9994 non-null   int32         \n",
            " 20  order_month    9994 non-null   int32         \n",
            " 21  ship_year      9994 non-null   int32         \n",
            " 22  ship_month     9994 non-null   int32         \n",
            "dtypes: datetime64[ns](2), float64(4), int32(4), int64(2), object(11)\n",
            "memory usage: 1.6+ MB\n"
          ]
        }
      ],
      "source": [
        "data['order_date'] = pd.to_datetime(data['order_date'])\n",
        "data['ship_date'] = pd.to_datetime(data['ship_date'])\n",
        "\n",
        "#extract year and month from order_date\n",
        "data['order_year'] = data['order_date'].dt.year\n",
        "data['order_month'] = data['order_date'].dt.month\n",
        "\n",
        "#extract year and month from ship_date\n",
        "data['ship_year']=data['ship_date'].dt.year\n",
        "data['ship_month']=data['ship_date'].dt.month\n",
        "\n",
        "data.info()"
      ]
    },
    {
      "cell_type": "markdown",
      "metadata": {
        "id": "W1gNLjOdLjP5"
      },
      "source": [
        "---\n",
        "**Missing Value**\n",
        "\n",
        "---\n",
        "\n"
      ]
    },
    {
      "cell_type": "code",
      "execution_count": 6,
      "metadata": {
        "colab": {
          "base_uri": "https://localhost:8080/"
        },
        "id": "0p_qR93QLTjT",
        "outputId": "fe687bb6-a02c-40ee-b52f-4ec7105537ed"
      },
      "outputs": [
        {
          "data": {
            "text/plain": [
              "order_id         False\n",
              "order_date       False\n",
              "ship_date        False\n",
              "customer         False\n",
              "manufactory      False\n",
              "product_name     False\n",
              "segment          False\n",
              "category         False\n",
              "subcategory      False\n",
              "region           False\n",
              "zip              False\n",
              "city             False\n",
              "state            False\n",
              "country          False\n",
              "discount         False\n",
              "profit           False\n",
              "quantity         False\n",
              "sales            False\n",
              "profit_margin    False\n",
              "order_year       False\n",
              "order_month      False\n",
              "ship_year        False\n",
              "ship_month       False\n",
              "dtype: bool"
            ]
          },
          "execution_count": 6,
          "metadata": {},
          "output_type": "execute_result"
        }
      ],
      "source": [
        "data.isnull().any()"
      ]
    },
    {
      "cell_type": "markdown",
      "metadata": {
        "id": "FZYYYO5VMBlW"
      },
      "source": [
        "Berdasarkan output diatas, jika hasil output tertulis False, artinya kolom tersebut tidak mengandung Missing Values.\n",
        "Untuk mengetahui jumlah missing value tiap kolom, dapat digunakan sum()"
      ]
    },
    {
      "cell_type": "code",
      "execution_count": 7,
      "metadata": {
        "colab": {
          "base_uri": "https://localhost:8080/"
        },
        "id": "RmTdGMVYKfa6",
        "outputId": "c5d124b8-feb5-426d-8eea-3e4c1250f7b6"
      },
      "outputs": [
        {
          "data": {
            "text/plain": [
              "order_id         0\n",
              "order_date       0\n",
              "ship_date        0\n",
              "customer         0\n",
              "manufactory      0\n",
              "product_name     0\n",
              "segment          0\n",
              "category         0\n",
              "subcategory      0\n",
              "region           0\n",
              "zip              0\n",
              "city             0\n",
              "state            0\n",
              "country          0\n",
              "discount         0\n",
              "profit           0\n",
              "quantity         0\n",
              "sales            0\n",
              "profit_margin    0\n",
              "order_year       0\n",
              "order_month      0\n",
              "ship_year        0\n",
              "ship_month       0\n",
              "dtype: int64"
            ]
          },
          "execution_count": 7,
          "metadata": {},
          "output_type": "execute_result"
        }
      ],
      "source": [
        "data.isnull().sum()"
      ]
    },
    {
      "cell_type": "markdown",
      "metadata": {
        "id": "HCO9Ev-nMnwE"
      },
      "source": [
        "Based on the summarized output, there are no columns containing Missing Values (blanks/N/A (Python: nan or NaN))."
      ]
    },
    {
      "cell_type": "code",
      "execution_count": 8,
      "metadata": {
        "colab": {
          "base_uri": "https://localhost:8080/"
        },
        "id": "Zz1n9PfyMv2J",
        "outputId": "2b68deec-2e32-41e1-c587-549bf82882d2"
      },
      "outputs": [
        {
          "data": {
            "text/plain": [
              "np.int64(0)"
            ]
          },
          "execution_count": 8,
          "metadata": {},
          "output_type": "execute_result"
        }
      ],
      "source": [
        "#Total Number of Missing NA\n",
        "data.isnull().sum().sum()"
      ]
    },
    {
      "cell_type": "markdown",
      "metadata": {
        "id": "p2wBGSDdjY12"
      },
      "source": [
        "# Data Understanding"
      ]
    },
    {
      "cell_type": "code",
      "execution_count": 9,
      "metadata": {
        "colab": {
          "base_uri": "https://localhost:8080/",
          "height": 0
        },
        "id": "Z-zW3PajU5ji",
        "outputId": "d304baab-c894-49c1-8a7c-ce875e31912b"
      },
      "outputs": [
        {
          "data": {
            "text/html": [
              "<div>\n",
              "<style scoped>\n",
              "    .dataframe tbody tr th:only-of-type {\n",
              "        vertical-align: middle;\n",
              "    }\n",
              "\n",
              "    .dataframe tbody tr th {\n",
              "        vertical-align: top;\n",
              "    }\n",
              "\n",
              "    .dataframe thead th {\n",
              "        text-align: right;\n",
              "    }\n",
              "</style>\n",
              "<table border=\"1\" class=\"dataframe\">\n",
              "  <thead>\n",
              "    <tr style=\"text-align: right;\">\n",
              "      <th></th>\n",
              "      <th>count</th>\n",
              "      <th>unique</th>\n",
              "      <th>top</th>\n",
              "      <th>freq</th>\n",
              "    </tr>\n",
              "  </thead>\n",
              "  <tbody>\n",
              "    <tr>\n",
              "      <th>order_id</th>\n",
              "      <td>9994</td>\n",
              "      <td>5009</td>\n",
              "      <td>US-2023-100111</td>\n",
              "      <td>14</td>\n",
              "    </tr>\n",
              "    <tr>\n",
              "      <th>customer</th>\n",
              "      <td>9994</td>\n",
              "      <td>793</td>\n",
              "      <td>William Brown</td>\n",
              "      <td>37</td>\n",
              "    </tr>\n",
              "    <tr>\n",
              "      <th>manufactory</th>\n",
              "      <td>9994</td>\n",
              "      <td>182</td>\n",
              "      <td>Other</td>\n",
              "      <td>1893</td>\n",
              "    </tr>\n",
              "    <tr>\n",
              "      <th>product_name</th>\n",
              "      <td>9994</td>\n",
              "      <td>1849</td>\n",
              "      <td>Staple envelope</td>\n",
              "      <td>48</td>\n",
              "    </tr>\n",
              "    <tr>\n",
              "      <th>segment</th>\n",
              "      <td>9994</td>\n",
              "      <td>3</td>\n",
              "      <td>Consumer</td>\n",
              "      <td>5191</td>\n",
              "    </tr>\n",
              "    <tr>\n",
              "      <th>category</th>\n",
              "      <td>9994</td>\n",
              "      <td>3</td>\n",
              "      <td>Office Supplies</td>\n",
              "      <td>6026</td>\n",
              "    </tr>\n",
              "    <tr>\n",
              "      <th>subcategory</th>\n",
              "      <td>9994</td>\n",
              "      <td>17</td>\n",
              "      <td>Binders</td>\n",
              "      <td>1523</td>\n",
              "    </tr>\n",
              "    <tr>\n",
              "      <th>region</th>\n",
              "      <td>9994</td>\n",
              "      <td>4</td>\n",
              "      <td>West</td>\n",
              "      <td>3203</td>\n",
              "    </tr>\n",
              "    <tr>\n",
              "      <th>city</th>\n",
              "      <td>9994</td>\n",
              "      <td>531</td>\n",
              "      <td>New York City</td>\n",
              "      <td>915</td>\n",
              "    </tr>\n",
              "    <tr>\n",
              "      <th>state</th>\n",
              "      <td>9994</td>\n",
              "      <td>49</td>\n",
              "      <td>California</td>\n",
              "      <td>2001</td>\n",
              "    </tr>\n",
              "    <tr>\n",
              "      <th>country</th>\n",
              "      <td>9994</td>\n",
              "      <td>1</td>\n",
              "      <td>United States</td>\n",
              "      <td>9994</td>\n",
              "    </tr>\n",
              "  </tbody>\n",
              "</table>\n",
              "</div>"
            ],
            "text/plain": [
              "             count unique              top  freq\n",
              "order_id      9994   5009   US-2023-100111    14\n",
              "customer      9994    793    William Brown    37\n",
              "manufactory   9994    182            Other  1893\n",
              "product_name  9994   1849  Staple envelope    48\n",
              "segment       9994      3         Consumer  5191\n",
              "category      9994      3  Office Supplies  6026\n",
              "subcategory   9994     17          Binders  1523\n",
              "region        9994      4             West  3203\n",
              "city          9994    531    New York City   915\n",
              "state         9994     49       California  2001\n",
              "country       9994      1    United States  9994"
            ]
          },
          "execution_count": 9,
          "metadata": {},
          "output_type": "execute_result"
        }
      ],
      "source": [
        "data.describe(exclude=['int64', 'float64', 'datetime64[ns]', 'int32']).transpose()"
      ]
    },
    {
      "cell_type": "markdown",
      "metadata": {
        "id": "zQ2OZj3eWn8e"
      },
      "source": [
        "From the output above, we obtained several pieces of information, including:\n",
        "1.  'order_id' is a unique identifier that will be used to count rows in Tableau and serve as the primary key in SQL table creation.\n",
        "2. There are 793 unique customers, which may be due to orders on the same day but with different items. The customer who made the most transactions is William Brown, with a total of 37 transactions.\n",
        "3. There are 1,849 different products in this store. The most purchased product is the Staple envelope.\n",
        "4. New York City is the top city among all 531 cities in the United States."
      ]
    },
    {
      "cell_type": "code",
      "execution_count": 10,
      "metadata": {},
      "outputs": [
        {
          "data": {
            "text/html": [
              "<div>\n",
              "<style scoped>\n",
              "    .dataframe tbody tr th:only-of-type {\n",
              "        vertical-align: middle;\n",
              "    }\n",
              "\n",
              "    .dataframe tbody tr th {\n",
              "        vertical-align: top;\n",
              "    }\n",
              "\n",
              "    .dataframe thead th {\n",
              "        text-align: right;\n",
              "    }\n",
              "</style>\n",
              "<table border=\"1\" class=\"dataframe\">\n",
              "  <thead>\n",
              "    <tr style=\"text-align: right;\">\n",
              "      <th></th>\n",
              "      <th>order_id</th>\n",
              "      <th>order_date</th>\n",
              "      <th>ship_date</th>\n",
              "      <th>customer</th>\n",
              "      <th>manufactory</th>\n",
              "      <th>product_name</th>\n",
              "      <th>segment</th>\n",
              "      <th>category</th>\n",
              "      <th>subcategory</th>\n",
              "      <th>region</th>\n",
              "      <th>zip</th>\n",
              "      <th>city</th>\n",
              "      <th>state</th>\n",
              "      <th>country</th>\n",
              "      <th>discount</th>\n",
              "      <th>profit</th>\n",
              "      <th>quantity</th>\n",
              "      <th>sales</th>\n",
              "      <th>profit_margin</th>\n",
              "      <th>order_year</th>\n",
              "      <th>order_month</th>\n",
              "      <th>ship_year</th>\n",
              "      <th>ship_month</th>\n",
              "    </tr>\n",
              "  </thead>\n",
              "  <tbody>\n",
              "    <tr>\n",
              "      <th>8628</th>\n",
              "      <td>US-2023-100111</td>\n",
              "      <td>2022-09-20</td>\n",
              "      <td>2022-09-26</td>\n",
              "      <td>Seth Vernon</td>\n",
              "      <td>Global</td>\n",
              "      <td>Global Troy Executive Leather Low-Back Tilter</td>\n",
              "      <td>Consumer</td>\n",
              "      <td>Furniture</td>\n",
              "      <td>Chairs</td>\n",
              "      <td>East</td>\n",
              "      <td>10035</td>\n",
              "      <td>New York City</td>\n",
              "      <td>New York</td>\n",
              "      <td>United States</td>\n",
              "      <td>0.1</td>\n",
              "      <td>375.7350</td>\n",
              "      <td>5</td>\n",
              "      <td>2254.410</td>\n",
              "      <td>0.166667</td>\n",
              "      <td>2022</td>\n",
              "      <td>9</td>\n",
              "      <td>2022</td>\n",
              "      <td>9</td>\n",
              "    </tr>\n",
              "    <tr>\n",
              "      <th>8629</th>\n",
              "      <td>US-2023-100111</td>\n",
              "      <td>2022-09-20</td>\n",
              "      <td>2022-09-26</td>\n",
              "      <td>Seth Vernon</td>\n",
              "      <td>Global</td>\n",
              "      <td>Global Leather Task Chair, Black</td>\n",
              "      <td>Consumer</td>\n",
              "      <td>Furniture</td>\n",
              "      <td>Chairs</td>\n",
              "      <td>East</td>\n",
              "      <td>10035</td>\n",
              "      <td>New York City</td>\n",
              "      <td>New York</td>\n",
              "      <td>United States</td>\n",
              "      <td>0.1</td>\n",
              "      <td>8.0991</td>\n",
              "      <td>1</td>\n",
              "      <td>80.991</td>\n",
              "      <td>0.100000</td>\n",
              "      <td>2022</td>\n",
              "      <td>9</td>\n",
              "      <td>2022</td>\n",
              "      <td>9</td>\n",
              "    </tr>\n",
              "    <tr>\n",
              "      <th>8630</th>\n",
              "      <td>US-2023-100111</td>\n",
              "      <td>2022-09-20</td>\n",
              "      <td>2022-09-26</td>\n",
              "      <td>Seth Vernon</td>\n",
              "      <td>Hon</td>\n",
              "      <td>Hon Valutask Swivel Chairs</td>\n",
              "      <td>Consumer</td>\n",
              "      <td>Furniture</td>\n",
              "      <td>Chairs</td>\n",
              "      <td>East</td>\n",
              "      <td>10035</td>\n",
              "      <td>New York City</td>\n",
              "      <td>New York</td>\n",
              "      <td>United States</td>\n",
              "      <td>0.1</td>\n",
              "      <td>18.1764</td>\n",
              "      <td>3</td>\n",
              "      <td>272.646</td>\n",
              "      <td>0.066667</td>\n",
              "      <td>2022</td>\n",
              "      <td>9</td>\n",
              "      <td>2022</td>\n",
              "      <td>9</td>\n",
              "    </tr>\n",
              "    <tr>\n",
              "      <th>8631</th>\n",
              "      <td>US-2023-100111</td>\n",
              "      <td>2022-09-20</td>\n",
              "      <td>2022-09-26</td>\n",
              "      <td>Seth Vernon</td>\n",
              "      <td>Hon</td>\n",
              "      <td>Hon 4070 Series Pagoda Armless Upholstered Sta...</td>\n",
              "      <td>Consumer</td>\n",
              "      <td>Furniture</td>\n",
              "      <td>Chairs</td>\n",
              "      <td>East</td>\n",
              "      <td>10035</td>\n",
              "      <td>New York City</td>\n",
              "      <td>New York</td>\n",
              "      <td>United States</td>\n",
              "      <td>0.1</td>\n",
              "      <td>609.7157</td>\n",
              "      <td>11</td>\n",
              "      <td>2888.127</td>\n",
              "      <td>0.211111</td>\n",
              "      <td>2022</td>\n",
              "      <td>9</td>\n",
              "      <td>2022</td>\n",
              "      <td>9</td>\n",
              "    </tr>\n",
              "    <tr>\n",
              "      <th>8632</th>\n",
              "      <td>US-2023-100111</td>\n",
              "      <td>2022-09-20</td>\n",
              "      <td>2022-09-26</td>\n",
              "      <td>Seth Vernon</td>\n",
              "      <td>Pressboard</td>\n",
              "      <td>Pressboard Covers with Storage Hooks, 9 1/2\" x...</td>\n",
              "      <td>Consumer</td>\n",
              "      <td>Office Supplies</td>\n",
              "      <td>Binders</td>\n",
              "      <td>East</td>\n",
              "      <td>10035</td>\n",
              "      <td>New York City</td>\n",
              "      <td>New York</td>\n",
              "      <td>United States</td>\n",
              "      <td>0.2</td>\n",
              "      <td>3.9771</td>\n",
              "      <td>3</td>\n",
              "      <td>11.784</td>\n",
              "      <td>0.337500</td>\n",
              "      <td>2022</td>\n",
              "      <td>9</td>\n",
              "      <td>2022</td>\n",
              "      <td>9</td>\n",
              "    </tr>\n",
              "    <tr>\n",
              "      <th>8633</th>\n",
              "      <td>US-2023-100111</td>\n",
              "      <td>2022-09-20</td>\n",
              "      <td>2022-09-26</td>\n",
              "      <td>Seth Vernon</td>\n",
              "      <td>Advantus</td>\n",
              "      <td>Advantus Push Pins</td>\n",
              "      <td>Consumer</td>\n",
              "      <td>Office Supplies</td>\n",
              "      <td>Fasteners</td>\n",
              "      <td>East</td>\n",
              "      <td>10035</td>\n",
              "      <td>New York City</td>\n",
              "      <td>New York</td>\n",
              "      <td>United States</td>\n",
              "      <td>0.0</td>\n",
              "      <td>1.7876</td>\n",
              "      <td>2</td>\n",
              "      <td>4.360</td>\n",
              "      <td>0.410000</td>\n",
              "      <td>2022</td>\n",
              "      <td>9</td>\n",
              "      <td>2022</td>\n",
              "      <td>9</td>\n",
              "    </tr>\n",
              "    <tr>\n",
              "      <th>8634</th>\n",
              "      <td>US-2023-100111</td>\n",
              "      <td>2022-09-20</td>\n",
              "      <td>2022-09-26</td>\n",
              "      <td>Seth Vernon</td>\n",
              "      <td>TOPS</td>\n",
              "      <td>TOPS \"Important Message\" Pads, Canary, 4-1/4 x...</td>\n",
              "      <td>Consumer</td>\n",
              "      <td>Office Supplies</td>\n",
              "      <td>Paper</td>\n",
              "      <td>East</td>\n",
              "      <td>10035</td>\n",
              "      <td>New York City</td>\n",
              "      <td>New York</td>\n",
              "      <td>United States</td>\n",
              "      <td>0.0</td>\n",
              "      <td>18.1044</td>\n",
              "      <td>9</td>\n",
              "      <td>38.520</td>\n",
              "      <td>0.470000</td>\n",
              "      <td>2022</td>\n",
              "      <td>9</td>\n",
              "      <td>2022</td>\n",
              "      <td>9</td>\n",
              "    </tr>\n",
              "    <tr>\n",
              "      <th>8635</th>\n",
              "      <td>US-2023-100111</td>\n",
              "      <td>2022-09-20</td>\n",
              "      <td>2022-09-26</td>\n",
              "      <td>Seth Vernon</td>\n",
              "      <td>Adams</td>\n",
              "      <td>Adams Phone Message Book, 200 Message Capacity...</td>\n",
              "      <td>Consumer</td>\n",
              "      <td>Office Supplies</td>\n",
              "      <td>Paper</td>\n",
              "      <td>East</td>\n",
              "      <td>10035</td>\n",
              "      <td>New York City</td>\n",
              "      <td>New York</td>\n",
              "      <td>United States</td>\n",
              "      <td>0.0</td>\n",
              "      <td>6.3296</td>\n",
              "      <td>2</td>\n",
              "      <td>13.760</td>\n",
              "      <td>0.460000</td>\n",
              "      <td>2022</td>\n",
              "      <td>9</td>\n",
              "      <td>2022</td>\n",
              "      <td>9</td>\n",
              "    </tr>\n",
              "    <tr>\n",
              "      <th>8636</th>\n",
              "      <td>US-2023-100111</td>\n",
              "      <td>2022-09-20</td>\n",
              "      <td>2022-09-26</td>\n",
              "      <td>Seth Vernon</td>\n",
              "      <td>Other</td>\n",
              "      <td>SimpliFile Personal File, Black Granite, 15w x...</td>\n",
              "      <td>Consumer</td>\n",
              "      <td>Office Supplies</td>\n",
              "      <td>Storage</td>\n",
              "      <td>East</td>\n",
              "      <td>10035</td>\n",
              "      <td>New York City</td>\n",
              "      <td>New York</td>\n",
              "      <td>United States</td>\n",
              "      <td>0.0</td>\n",
              "      <td>12.7120</td>\n",
              "      <td>4</td>\n",
              "      <td>45.400</td>\n",
              "      <td>0.280000</td>\n",
              "      <td>2022</td>\n",
              "      <td>9</td>\n",
              "      <td>2022</td>\n",
              "      <td>9</td>\n",
              "    </tr>\n",
              "    <tr>\n",
              "      <th>8637</th>\n",
              "      <td>US-2023-100111</td>\n",
              "      <td>2022-09-20</td>\n",
              "      <td>2022-09-26</td>\n",
              "      <td>Seth Vernon</td>\n",
              "      <td>SanDisk</td>\n",
              "      <td>SanDisk Cruzer 64 GB USB Flash Drive</td>\n",
              "      <td>Consumer</td>\n",
              "      <td>Technology</td>\n",
              "      <td>Accessories</td>\n",
              "      <td>East</td>\n",
              "      <td>10035</td>\n",
              "      <td>New York City</td>\n",
              "      <td>New York</td>\n",
              "      <td>United States</td>\n",
              "      <td>0.0</td>\n",
              "      <td>21.7920</td>\n",
              "      <td>2</td>\n",
              "      <td>72.640</td>\n",
              "      <td>0.300000</td>\n",
              "      <td>2022</td>\n",
              "      <td>9</td>\n",
              "      <td>2022</td>\n",
              "      <td>9</td>\n",
              "    </tr>\n",
              "    <tr>\n",
              "      <th>8638</th>\n",
              "      <td>US-2023-100111</td>\n",
              "      <td>2022-09-20</td>\n",
              "      <td>2022-09-26</td>\n",
              "      <td>Seth Vernon</td>\n",
              "      <td>Logitech</td>\n",
              "      <td>Logitech LS21 Speaker System - PC Multimedia -...</td>\n",
              "      <td>Consumer</td>\n",
              "      <td>Technology</td>\n",
              "      <td>Accessories</td>\n",
              "      <td>East</td>\n",
              "      <td>10035</td>\n",
              "      <td>New York City</td>\n",
              "      <td>New York</td>\n",
              "      <td>United States</td>\n",
              "      <td>0.0</td>\n",
              "      <td>20.3898</td>\n",
              "      <td>3</td>\n",
              "      <td>59.970</td>\n",
              "      <td>0.340000</td>\n",
              "      <td>2022</td>\n",
              "      <td>9</td>\n",
              "      <td>2022</td>\n",
              "      <td>9</td>\n",
              "    </tr>\n",
              "    <tr>\n",
              "      <th>8639</th>\n",
              "      <td>US-2023-100111</td>\n",
              "      <td>2022-09-20</td>\n",
              "      <td>2022-09-26</td>\n",
              "      <td>Seth Vernon</td>\n",
              "      <td>Logitech</td>\n",
              "      <td>Logitech Wireless Boombox Speaker - portable -...</td>\n",
              "      <td>Consumer</td>\n",
              "      <td>Technology</td>\n",
              "      <td>Accessories</td>\n",
              "      <td>East</td>\n",
              "      <td>10035</td>\n",
              "      <td>New York City</td>\n",
              "      <td>New York</td>\n",
              "      <td>United States</td>\n",
              "      <td>0.0</td>\n",
              "      <td>95.7600</td>\n",
              "      <td>2</td>\n",
              "      <td>212.800</td>\n",
              "      <td>0.450000</td>\n",
              "      <td>2022</td>\n",
              "      <td>9</td>\n",
              "      <td>2022</td>\n",
              "      <td>9</td>\n",
              "    </tr>\n",
              "    <tr>\n",
              "      <th>8640</th>\n",
              "      <td>US-2023-100111</td>\n",
              "      <td>2022-09-20</td>\n",
              "      <td>2022-09-26</td>\n",
              "      <td>Seth Vernon</td>\n",
              "      <td>Plantronics</td>\n",
              "      <td>Plantronics Cordless Phone Headset with In-lin...</td>\n",
              "      <td>Consumer</td>\n",
              "      <td>Technology</td>\n",
              "      <td>Phones</td>\n",
              "      <td>East</td>\n",
              "      <td>10035</td>\n",
              "      <td>New York City</td>\n",
              "      <td>New York</td>\n",
              "      <td>United States</td>\n",
              "      <td>0.0</td>\n",
              "      <td>28.3095</td>\n",
              "      <td>3</td>\n",
              "      <td>104.850</td>\n",
              "      <td>0.270000</td>\n",
              "      <td>2022</td>\n",
              "      <td>9</td>\n",
              "      <td>2022</td>\n",
              "      <td>9</td>\n",
              "    </tr>\n",
              "    <tr>\n",
              "      <th>8641</th>\n",
              "      <td>US-2023-100111</td>\n",
              "      <td>2022-09-20</td>\n",
              "      <td>2022-09-26</td>\n",
              "      <td>Seth Vernon</td>\n",
              "      <td>Apple</td>\n",
              "      <td>Apple iPhone 5</td>\n",
              "      <td>Consumer</td>\n",
              "      <td>Technology</td>\n",
              "      <td>Phones</td>\n",
              "      <td>East</td>\n",
              "      <td>10035</td>\n",
              "      <td>New York City</td>\n",
              "      <td>New York</td>\n",
              "      <td>United States</td>\n",
              "      <td>0.0</td>\n",
              "      <td>350.9082</td>\n",
              "      <td>2</td>\n",
              "      <td>1299.660</td>\n",
              "      <td>0.270000</td>\n",
              "      <td>2022</td>\n",
              "      <td>9</td>\n",
              "      <td>2022</td>\n",
              "      <td>9</td>\n",
              "    </tr>\n",
              "  </tbody>\n",
              "</table>\n",
              "</div>"
            ],
            "text/plain": [
              "            order_id order_date  ship_date     customer  manufactory  \\\n",
              "8628  US-2023-100111 2022-09-20 2022-09-26  Seth Vernon       Global   \n",
              "8629  US-2023-100111 2022-09-20 2022-09-26  Seth Vernon       Global   \n",
              "8630  US-2023-100111 2022-09-20 2022-09-26  Seth Vernon          Hon   \n",
              "8631  US-2023-100111 2022-09-20 2022-09-26  Seth Vernon          Hon   \n",
              "8632  US-2023-100111 2022-09-20 2022-09-26  Seth Vernon   Pressboard   \n",
              "8633  US-2023-100111 2022-09-20 2022-09-26  Seth Vernon     Advantus   \n",
              "8634  US-2023-100111 2022-09-20 2022-09-26  Seth Vernon         TOPS   \n",
              "8635  US-2023-100111 2022-09-20 2022-09-26  Seth Vernon        Adams   \n",
              "8636  US-2023-100111 2022-09-20 2022-09-26  Seth Vernon        Other   \n",
              "8637  US-2023-100111 2022-09-20 2022-09-26  Seth Vernon      SanDisk   \n",
              "8638  US-2023-100111 2022-09-20 2022-09-26  Seth Vernon     Logitech   \n",
              "8639  US-2023-100111 2022-09-20 2022-09-26  Seth Vernon     Logitech   \n",
              "8640  US-2023-100111 2022-09-20 2022-09-26  Seth Vernon  Plantronics   \n",
              "8641  US-2023-100111 2022-09-20 2022-09-26  Seth Vernon        Apple   \n",
              "\n",
              "                                           product_name   segment  \\\n",
              "8628      Global Troy Executive Leather Low-Back Tilter  Consumer   \n",
              "8629                   Global Leather Task Chair, Black  Consumer   \n",
              "8630                         Hon Valutask Swivel Chairs  Consumer   \n",
              "8631  Hon 4070 Series Pagoda Armless Upholstered Sta...  Consumer   \n",
              "8632  Pressboard Covers with Storage Hooks, 9 1/2\" x...  Consumer   \n",
              "8633                                 Advantus Push Pins  Consumer   \n",
              "8634  TOPS \"Important Message\" Pads, Canary, 4-1/4 x...  Consumer   \n",
              "8635  Adams Phone Message Book, 200 Message Capacity...  Consumer   \n",
              "8636  SimpliFile Personal File, Black Granite, 15w x...  Consumer   \n",
              "8637               SanDisk Cruzer 64 GB USB Flash Drive  Consumer   \n",
              "8638  Logitech LS21 Speaker System - PC Multimedia -...  Consumer   \n",
              "8639  Logitech Wireless Boombox Speaker - portable -...  Consumer   \n",
              "8640  Plantronics Cordless Phone Headset with In-lin...  Consumer   \n",
              "8641                                     Apple iPhone 5  Consumer   \n",
              "\n",
              "             category  subcategory region    zip           city     state  \\\n",
              "8628        Furniture       Chairs   East  10035  New York City  New York   \n",
              "8629        Furniture       Chairs   East  10035  New York City  New York   \n",
              "8630        Furniture       Chairs   East  10035  New York City  New York   \n",
              "8631        Furniture       Chairs   East  10035  New York City  New York   \n",
              "8632  Office Supplies      Binders   East  10035  New York City  New York   \n",
              "8633  Office Supplies    Fasteners   East  10035  New York City  New York   \n",
              "8634  Office Supplies        Paper   East  10035  New York City  New York   \n",
              "8635  Office Supplies        Paper   East  10035  New York City  New York   \n",
              "8636  Office Supplies      Storage   East  10035  New York City  New York   \n",
              "8637       Technology  Accessories   East  10035  New York City  New York   \n",
              "8638       Technology  Accessories   East  10035  New York City  New York   \n",
              "8639       Technology  Accessories   East  10035  New York City  New York   \n",
              "8640       Technology       Phones   East  10035  New York City  New York   \n",
              "8641       Technology       Phones   East  10035  New York City  New York   \n",
              "\n",
              "            country  discount    profit  quantity     sales  profit_margin  \\\n",
              "8628  United States       0.1  375.7350         5  2254.410       0.166667   \n",
              "8629  United States       0.1    8.0991         1    80.991       0.100000   \n",
              "8630  United States       0.1   18.1764         3   272.646       0.066667   \n",
              "8631  United States       0.1  609.7157        11  2888.127       0.211111   \n",
              "8632  United States       0.2    3.9771         3    11.784       0.337500   \n",
              "8633  United States       0.0    1.7876         2     4.360       0.410000   \n",
              "8634  United States       0.0   18.1044         9    38.520       0.470000   \n",
              "8635  United States       0.0    6.3296         2    13.760       0.460000   \n",
              "8636  United States       0.0   12.7120         4    45.400       0.280000   \n",
              "8637  United States       0.0   21.7920         2    72.640       0.300000   \n",
              "8638  United States       0.0   20.3898         3    59.970       0.340000   \n",
              "8639  United States       0.0   95.7600         2   212.800       0.450000   \n",
              "8640  United States       0.0   28.3095         3   104.850       0.270000   \n",
              "8641  United States       0.0  350.9082         2  1299.660       0.270000   \n",
              "\n",
              "      order_year  order_month  ship_year  ship_month  \n",
              "8628        2022            9       2022           9  \n",
              "8629        2022            9       2022           9  \n",
              "8630        2022            9       2022           9  \n",
              "8631        2022            9       2022           9  \n",
              "8632        2022            9       2022           9  \n",
              "8633        2022            9       2022           9  \n",
              "8634        2022            9       2022           9  \n",
              "8635        2022            9       2022           9  \n",
              "8636        2022            9       2022           9  \n",
              "8637        2022            9       2022           9  \n",
              "8638        2022            9       2022           9  \n",
              "8639        2022            9       2022           9  \n",
              "8640        2022            9       2022           9  \n",
              "8641        2022            9       2022           9  "
            ]
          },
          "execution_count": 10,
          "metadata": {},
          "output_type": "execute_result"
        }
      ],
      "source": [
        "data[data['order_id']=='US-2023-100111']"
      ]
    },
    {
      "cell_type": "code",
      "execution_count": 11,
      "metadata": {
        "id": "8TTYnNX4hc25"
      },
      "outputs": [],
      "source": [
        "cats_to_visualize=['product_name', 'category', 'subcategory', 'city', 'state']"
      ]
    },
    {
      "cell_type": "code",
      "execution_count": 12,
      "metadata": {
        "colab": {
          "base_uri": "https://localhost:8080/"
        },
        "id": "R-XtrrisWQoC",
        "outputId": "e191d642-bbe6-408d-9db2-778638628e9f"
      },
      "outputs": [
        {
          "name": "stdout",
          "output_type": "stream",
          "text": [
            "Value counts untuk product_name :\n",
            "product_name\n",
            "Staple envelope                                                              48\n",
            "Easy-staple paper                                                            46\n",
            "Staples                                                                      46\n",
            "Avery Non-Stick Binders                                                      20\n",
            "Staples in misc. colors                                                      19\n",
            "                                                                             ..\n",
            "Xerox 1938                                                                    1\n",
            "Xerox 1901                                                                    1\n",
            "Panasonic Business Telephones KX-T7736                                        1\n",
            "Bush Saratoga Collection 5-Shelf Bookcase, Hanover Cherry, *Special Order     1\n",
            "Acco Glide Clips                                                              1\n",
            "Name: count, Length: 1849, dtype: int64 \n",
            "\n",
            "Value counts untuk category :\n",
            "category\n",
            "Office Supplies    6026\n",
            "Furniture          2121\n",
            "Technology         1847\n",
            "Name: count, dtype: int64 \n",
            "\n",
            "Value counts untuk subcategory :\n",
            "subcategory\n",
            "Binders        1523\n",
            "Paper          1370\n",
            "Furnishings     957\n",
            "Phones          889\n",
            "Storage         846\n",
            "Art             796\n",
            "Accessories     775\n",
            "Chairs          617\n",
            "Appliances      466\n",
            "Labels          364\n",
            "Tables          319\n",
            "Envelopes       254\n",
            "Bookcases       228\n",
            "Fasteners       217\n",
            "Supplies        190\n",
            "Machines        115\n",
            "Copiers          68\n",
            "Name: count, dtype: int64 \n",
            "\n",
            "Value counts untuk city :\n",
            "city\n",
            "New York City    915\n",
            "Los Angeles      747\n",
            "Philadelphia     537\n",
            "San Francisco    510\n",
            "Seattle          428\n",
            "                ... \n",
            "Melbourne          1\n",
            "Springdale         1\n",
            "Abilene            1\n",
            "Port Orange        1\n",
            "Danbury            1\n",
            "Name: count, Length: 531, dtype: int64 \n",
            "\n",
            "Value counts untuk state :\n",
            "state\n",
            "California              2001\n",
            "New York                1128\n",
            "Texas                    985\n",
            "Pennsylvania             587\n",
            "Washington               506\n",
            "Illinois                 492\n",
            "Ohio                     469\n",
            "Florida                  383\n",
            "Michigan                 255\n",
            "North Carolina           249\n",
            "Arizona                  224\n",
            "Virginia                 224\n",
            "Georgia                  184\n",
            "Tennessee                183\n",
            "Colorado                 182\n",
            "Indiana                  149\n",
            "Kentucky                 139\n",
            "Massachusetts            135\n",
            "New Jersey               130\n",
            "Oregon                   124\n",
            "Wisconsin                110\n",
            "Maryland                 105\n",
            "Delaware                  96\n",
            "Minnesota                 89\n",
            "Connecticut               82\n",
            "Oklahoma                  66\n",
            "Missouri                  66\n",
            "Alabama                   61\n",
            "Arkansas                  60\n",
            "Rhode Island              56\n",
            "Utah                      53\n",
            "Mississippi               53\n",
            "South Carolina            42\n",
            "Louisiana                 42\n",
            "Nevada                    39\n",
            "Nebraska                  38\n",
            "New Mexico                37\n",
            "Iowa                      30\n",
            "New Hampshire             27\n",
            "Kansas                    24\n",
            "Idaho                     21\n",
            "Montana                   15\n",
            "South Dakota              12\n",
            "Vermont                   11\n",
            "District of Columbia      10\n",
            "Maine                      8\n",
            "North Dakota               7\n",
            "West Virginia              4\n",
            "Wyoming                    1\n",
            "Name: count, dtype: int64 \n",
            "\n"
          ]
        }
      ],
      "source": [
        "#Categorical Counts\n",
        "for col in cats_to_visualize :\n",
        "  print(f'Value counts untuk {col} :')\n",
        "  print(data[col].value_counts(), '\\n')"
      ]
    },
    {
      "cell_type": "markdown",
      "metadata": {
        "id": "VqT_1GpzISf6"
      },
      "source": [
        "# Product Analysis"
      ]
    },
    {
      "cell_type": "code",
      "execution_count": 29,
      "metadata": {
        "colab": {
          "base_uri": "https://localhost:8080/"
        },
        "id": "ZjElBJiKId6u",
        "outputId": "a85bfd05-68b2-4548-cafd-ff87f1031cf8"
      },
      "outputs": [
        {
          "data": {
            "text/plain": [
              "<Axes: ylabel='count'>"
            ]
          },
          "execution_count": 29,
          "metadata": {},
          "output_type": "execute_result"
        },
        {
          "data": {
            "image/png": "[encoded data removed]",
            "text/plain": [
              "<Figure size 640x480 with 1 Axes>"
            ]
          },
          "metadata": {},
          "output_type": "display_data"
        }
      ],
      "source": [
        "##number of products in each category\n",
        "data['category'].value_counts().plot.pie(autopct=\"%1.1f%%\", colors=['#A2BEDC', '#D26B9D', '#B793C9'])"
      ]
    },
    {
      "cell_type": "code",
      "execution_count": 14,
      "metadata": {
        "colab": {
          "base_uri": "https://localhost:8080/"
        },
        "id": "Qs85aRFgIeSo",
        "outputId": "9763439d-d048-40b1-c416-9eff6dced4a0"
      },
      "outputs": [
        {
          "data": {
            "text/plain": [
              "subcategory\n",
              "Binders        1523\n",
              "Paper          1370\n",
              "Furnishings     957\n",
              "Phones          889\n",
              "Storage         846\n",
              "Art             796\n",
              "Accessories     775\n",
              "Chairs          617\n",
              "Appliances      466\n",
              "Labels          364\n",
              "Tables          319\n",
              "Envelopes       254\n",
              "Bookcases       228\n",
              "Fasteners       217\n",
              "Supplies        190\n",
              "Machines        115\n",
              "Copiers          68\n",
              "Name: count, dtype: int64"
            ]
          },
          "execution_count": 14,
          "metadata": {},
          "output_type": "execute_result"
        }
      ],
      "source": [
        "##number of products in each sub-category\n",
        "data['subcategory'].value_counts()"
      ]
    },
    {
      "cell_type": "markdown",
      "metadata": {
        "id": "l14xxMn3NGQU"
      },
      "source": [
        "The store has wide variety of Office Supplies especially in Binders and Paper department."
      ]
    },
    {
      "cell_type": "code",
      "execution_count": 41,
      "metadata": {},
      "outputs": [
        {
          "data": {
            "image/png": "[encoded data removed]",
            "text/plain": [
              "<Figure size 1500x800 with 1 Axes>"
            ]
          },
          "metadata": {},
          "output_type": "display_data"
        }
      ],
      "source": [
        "colors =['#A2BEDC', '#D26B9D', '#B793C9']\n",
        "plt.figure(figsize=(15,8))\n",
        "sns.countplot(x=\"subcategory\", hue=\"category\", data=data, palette=colors)\n",
        "plt.xticks(rotation=45)\n",
        "plt.show()"
      ]
    },
    {
      "cell_type": "code",
      "execution_count": 53,
      "metadata": {},
      "outputs": [
        {
          "name": "stdout",
          "output_type": "stream",
          "text": [
            "subcategory\n",
            "Binders       1523\n",
            "Paper         1370\n",
            "Storage        846\n",
            "Art            796\n",
            "Appliances     466\n",
            "Labels         364\n",
            "Envelopes      254\n",
            "Fasteners      217\n",
            "Supplies       190\n",
            "Name: count, dtype: int64\n"
          ]
        }
      ],
      "source": [
        "#Filter for Subcategory Office Supply\n",
        "Office_Supplies = data[data['category']=='Office Supplies']\n",
        "sorted_office_supplies = Office_Supplies['subcategory'].value_counts()\n",
        "\n",
        "print(sorted_office_supplies)"
      ]
    },
    {
      "cell_type": "code",
      "execution_count": 54,
      "metadata": {},
      "outputs": [
        {
          "name": "stdout",
          "output_type": "stream",
          "text": [
            "subcategory\n",
            "Phones         889\n",
            "Accessories    775\n",
            "Machines       115\n",
            "Copiers         68\n",
            "Name: count, dtype: int64\n"
          ]
        }
      ],
      "source": [
        "#Filter for Subcategory Office Supply\n",
        "Office_Supplies = data[data['category']=='Technology']\n",
        "sorted_office_supplies = Office_Supplies['subcategory'].value_counts()\n",
        "\n",
        "print(sorted_office_supplies)"
      ]
    },
    {
      "cell_type": "code",
      "execution_count": 102,
      "metadata": {
        "colab": {
          "base_uri": "https://localhost:8080/",
          "height": 516
        },
        "id": "gHY7JdrQM-Rp",
        "outputId": "7d2c1012-23a4-485d-d779-a33fed6d61b9"
      },
      "outputs": [
        {
          "data": {
            "image/png": "[encoded data removed]",
            "text/plain": [
              "<Figure size 640x480 with 1 Axes>"
            ]
          },
          "metadata": {},
          "output_type": "display_data"
        }
      ],
      "source": [
        "#Plot Sales and Profit in each Sub-category\n",
        "data.groupby('subcategory')[['profit','sales']].agg(['sum']).plot.bar()\n",
        "plt.title('Sum of Profit by Subcategory')\n",
        "plt.xlabel('Subcategory')\n",
        "plt.ylabel('Sum of Profit')\n",
        "plt.show()"
      ]
    },
    {
      "cell_type": "markdown",
      "metadata": {
        "id": "u53GJLkkR0uA"
      },
      "source": [
        "Highest profit is earned in **Copiers** while Selling price for **Chairs** and **Phones** is extremely high compared to other products.\n",
        "\n",
        "\n",
        "People dont prefer to buy **Tables** and **Bookcases** from Superstore. Hence these departments are in loss."
      ]
    },
    {
      "cell_type": "code",
      "execution_count": 18,
      "metadata": {
        "colab": {
          "base_uri": "https://localhost:8080/"
        },
        "id": "-nedyGIOYZt-",
        "outputId": "e9ef1aea-cfde-49c8-c0f0-7d73bac98de4"
      },
      "outputs": [
        {
          "data": {
            "text/plain": [
              "0      5.4484\n",
              "1      4.5135\n",
              "2      2.5041\n",
              "3    112.5036\n",
              "4      4.8840\n",
              "Name: cost, dtype: float64"
            ]
          },
          "execution_count": 18,
          "metadata": {},
          "output_type": "execute_result"
        }
      ],
      "source": [
        "#create some new columns: Cost\n",
        "data['cost'] = (data['sales']-data['profit'])/data['quantity']\n",
        "data['cost'].head()"
      ]
    },
    {
      "cell_type": "markdown",
      "metadata": {},
      "source": [
        "Top Product Analysis:"
      ]
    },
    {
      "cell_type": "code",
      "execution_count": 213,
      "metadata": {
        "colab": {
          "base_uri": "https://localhost:8080/",
          "height": 825
        },
        "id": "Yt1J2IS4SDrI",
        "outputId": "99bfda8d-b888-4b58-a1dc-9db0e083554d"
      },
      "outputs": [
        {
          "data": {
            "text/plain": [
              "product_name\n",
              "Staple envelope                                              48\n",
              "Easy-staple paper                                            46\n",
              "Staples                                                      46\n",
              "Avery Non-Stick Binders                                      20\n",
              "Staples in misc. colors                                      19\n",
              "Staple remover                                               18\n",
              "KI Adjustable-Height Table                                   18\n",
              "Storex Dura Pro Binders                                      17\n",
              "Staple-based wall hangings                                   16\n",
              "Logitech 910-002974 M325 Wireless Mouse for Web Scrolling    15\n",
              "Name: count, dtype: int64"
            ]
          },
          "execution_count": 213,
          "metadata": {},
          "output_type": "execute_result"
        }
      ],
      "source": [
        "#Distribution of Top 10 Products\n",
        "product_value_count = data['product_name'].value_counts()\n",
        "top_product_visualize = product_value_count.head(10)\n",
        "top_product_visualize"
      ]
    },
    {
      "cell_type": "code",
      "execution_count": 229,
      "metadata": {},
      "outputs": [
        {
          "data": {
            "image/png": "[encoded data removed]",
            "text/plain": [
              "<Figure size 1000x500 with 1 Axes>"
            ]
          },
          "metadata": {},
          "output_type": "display_data"
        }
      ],
      "source": [
        "plt.figure(figsize=(10,5))\n",
        "plt.barh(top_product_visualize.index, top_product_visualize.values, color='#B793C9')\n",
        "plt.title('Top 10 Products')\n",
        "plt.ylabel('Product Name')\n",
        "plt.xlabel('Count')\n",
        "plt.show()"
      ]
    },
    {
      "cell_type": "code",
      "execution_count": 120,
      "metadata": {
        "colab": {
          "base_uri": "https://localhost:8080/"
        },
        "id": "f3f4FFWFenW_",
        "outputId": "a9bd6bb5-2211-4ae3-8683-8774fe838a86"
      },
      "outputs": [
        {
          "name": "stdout",
          "output_type": "stream",
          "text": [
            "                                           product_name         category  \\\n",
            "7108              Canon imageCLASS 2200 Advanced Copier       Technology   \n",
            "5776              Canon imageCLASS 2200 Advanced Copier       Technology   \n",
            "9338              Canon imageCLASS 2200 Advanced Copier       Technology   \n",
            "1455  Canon imageCLASS MF7460 Monochrome Digital Las...       Technology   \n",
            "8987              Canon imageCLASS 2200 Advanced Copier       Technology   \n",
            "1177               Ibico EPK-21 Electric Binding System  Office Supplies   \n",
            "2177  Fellowes PB500 Electric Punch Plastic Comb Bin...  Office Supplies   \n",
            "2102  Fellowes PB500 Electric Punch Plastic Comb Bin...  Office Supplies   \n",
            "2399  Fellowes PB500 Electric Punch Plastic Comb Bin...  Office Supplies   \n",
            "4182  Fellowes PB500 Electric Punch Plastic Comb Bin...  Office Supplies   \n",
            "\n",
            "      profit_per_product  \n",
            "7108           1679.9952  \n",
            "5776           1679.9952  \n",
            "9338           1679.9952  \n",
            "1455            997.9950  \n",
            "8987            979.9972  \n",
            "1177            926.0951  \n",
            "2177            635.4950  \n",
            "2102            635.4950  \n",
            "2399            635.4950  \n",
            "4182            635.4950  \n"
          ]
        }
      ],
      "source": [
        "#10 Products with high Profit\n",
        "data['profit_per_product'] = data['profit']/data['quantity']\n",
        "top_products_profit = data.sort_values(by='profit_per_product', ascending=False).head(10)\n",
        "\n",
        "print(top_products_profit[['product_name','category', 'profit_per_product']])"
      ]
    },
    {
      "cell_type": "markdown",
      "metadata": {},
      "source": [
        "**Products with High Sales & Profits**"
      ]
    },
    {
      "cell_type": "code",
      "execution_count": 433,
      "metadata": {},
      "outputs": [
        {
          "data": {
            "text/html": [
              "<div>\n",
              "<style scoped>\n",
              "    .dataframe tbody tr th:only-of-type {\n",
              "        vertical-align: middle;\n",
              "    }\n",
              "\n",
              "    .dataframe tbody tr th {\n",
              "        vertical-align: top;\n",
              "    }\n",
              "\n",
              "    .dataframe thead th {\n",
              "        text-align: right;\n",
              "    }\n",
              "</style>\n",
              "<table border=\"1\" class=\"dataframe\">\n",
              "  <thead>\n",
              "    <tr style=\"text-align: right;\">\n",
              "      <th></th>\n",
              "      <th>product_name</th>\n",
              "      <th>profit</th>\n",
              "    </tr>\n",
              "  </thead>\n",
              "  <tbody>\n",
              "    <tr>\n",
              "      <th>6541</th>\n",
              "      <td>GBC Ibimaster 500 Manual ProClick Binding System</td>\n",
              "      <td>4946.3700</td>\n",
              "    </tr>\n",
              "    <tr>\n",
              "      <th>2177</th>\n",
              "      <td>Fellowes PB500 Electric Punch Plastic Comb Bin...</td>\n",
              "      <td>3177.4750</td>\n",
              "    </tr>\n",
              "    <tr>\n",
              "      <th>5790</th>\n",
              "      <td>Hewlett Packard LaserJet 3310 Copier</td>\n",
              "      <td>2591.9568</td>\n",
              "    </tr>\n",
              "    <tr>\n",
              "      <th>2399</th>\n",
              "      <td>Fellowes PB500 Electric Punch Plastic Comb Bin...</td>\n",
              "      <td>1906.4850</td>\n",
              "    </tr>\n",
              "    <tr>\n",
              "      <th>8905</th>\n",
              "      <td>Fellowes PB500 Electric Punch Plastic Comb Bin...</td>\n",
              "      <td>1906.4850</td>\n",
              "    </tr>\n",
              "    <tr>\n",
              "      <th>8231</th>\n",
              "      <td>GBC DocuBind TL300 Electric Binding System</td>\n",
              "      <td>1453.1238</td>\n",
              "    </tr>\n",
              "    <tr>\n",
              "      <th>7176</th>\n",
              "      <td>Hewlett Packard LaserJet 3310 Copier</td>\n",
              "      <td>1439.9760</td>\n",
              "    </tr>\n",
              "    <tr>\n",
              "      <th>2102</th>\n",
              "      <td>Fellowes PB500 Electric Punch Plastic Comb Bin...</td>\n",
              "      <td>1270.9900</td>\n",
              "    </tr>\n",
              "    <tr>\n",
              "      <th>7223</th>\n",
              "      <td>GBC DocuBind TL300 Electric Binding System</td>\n",
              "      <td>1264.7559</td>\n",
              "    </tr>\n",
              "    <tr>\n",
              "      <th>2632</th>\n",
              "      <td>Fellowes PB500 Electric Punch Plastic Comb Bin...</td>\n",
              "      <td>1143.8910</td>\n",
              "    </tr>\n",
              "    <tr>\n",
              "      <th>9918</th>\n",
              "      <td>Hewlett Packard LaserJet 3310 Copier</td>\n",
              "      <td>1007.9832</td>\n",
              "    </tr>\n",
              "    <tr>\n",
              "      <th>6606</th>\n",
              "      <td>Hewlett Packard 610 Color Digital Copier / Pri...</td>\n",
              "      <td>899.9820</td>\n",
              "    </tr>\n",
              "    <tr>\n",
              "      <th>6548</th>\n",
              "      <td>GBC DocuBind TL300 Electric Binding System</td>\n",
              "      <td>843.1706</td>\n",
              "    </tr>\n",
              "    <tr>\n",
              "      <th>980</th>\n",
              "      <td>GBC DocuBind TL300 Electric Binding System</td>\n",
              "      <td>843.1706</td>\n",
              "    </tr>\n",
              "    <tr>\n",
              "      <th>8815</th>\n",
              "      <td>GBC DocuBind TL300 Electric Binding System</td>\n",
              "      <td>843.1706</td>\n",
              "    </tr>\n",
              "  </tbody>\n",
              "</table>\n",
              "</div>"
            ],
            "text/plain": [
              "                                           product_name     profit\n",
              "6541   GBC Ibimaster 500 Manual ProClick Binding System  4946.3700\n",
              "2177  Fellowes PB500 Electric Punch Plastic Comb Bin...  3177.4750\n",
              "5790               Hewlett Packard LaserJet 3310 Copier  2591.9568\n",
              "2399  Fellowes PB500 Electric Punch Plastic Comb Bin...  1906.4850\n",
              "8905  Fellowes PB500 Electric Punch Plastic Comb Bin...  1906.4850\n",
              "8231         GBC DocuBind TL300 Electric Binding System  1453.1238\n",
              "7176               Hewlett Packard LaserJet 3310 Copier  1439.9760\n",
              "2102  Fellowes PB500 Electric Punch Plastic Comb Bin...  1270.9900\n",
              "7223         GBC DocuBind TL300 Electric Binding System  1264.7559\n",
              "2632  Fellowes PB500 Electric Punch Plastic Comb Bin...  1143.8910\n",
              "9918               Hewlett Packard LaserJet 3310 Copier  1007.9832\n",
              "6606  Hewlett Packard 610 Color Digital Copier / Pri...   899.9820\n",
              "6548         GBC DocuBind TL300 Electric Binding System   843.1706\n",
              "980          GBC DocuBind TL300 Electric Binding System   843.1706\n",
              "8815         GBC DocuBind TL300 Electric Binding System   843.1706"
            ]
          },
          "execution_count": 433,
          "metadata": {},
          "output_type": "execute_result"
        }
      ],
      "source": [
        "# Memfilter 20 produk yang memiliki sales tinggi dan profit tinggi\n",
        "top_product_threshold = product_value_count.quantile(0.75)\n",
        "top_profit_threshold = data['profit'].quantile(0.75)\n",
        "\n",
        "top_sales_profit = data[(data['product_name'].isin(product_value_count.index[product_value_count >= top_product_threshold])) &\n",
        "                          (data['profit'] >= top_profit_threshold)]\n",
        "\n",
        "visualize_stars_product = top_sales_profit.sort_values(by='profit', ascending=False)[['product_name','profit']].head(15)\n",
        "visualize_stars_product\n"
      ]
    },
    {
      "cell_type": "code",
      "execution_count": 274,
      "metadata": {},
      "outputs": [
        {
          "data": {
            "image/png": "[encoded data removed]",
            "text/plain": [
              "<Figure size 640x480 with 1 Axes>"
            ]
          },
          "metadata": {},
          "output_type": "display_data"
        }
      ],
      "source": [
        "visualize_stars_product.plot.barh(color='#B793C9')\n",
        "plt.show()"
      ]
    },
    {
      "cell_type": "code",
      "execution_count": 277,
      "metadata": {},
      "outputs": [
        {
          "data": {
            "text/plain": [
              "<Axes: ylabel='count'>"
            ]
          },
          "execution_count": 277,
          "metadata": {},
          "output_type": "execute_result"
        },
        {
          "data": {
            "image/png": "[encoded data removed]",
            "text/plain": [
              "<Figure size 640x480 with 1 Axes>"
            ]
          },
          "metadata": {},
          "output_type": "display_data"
        }
      ],
      "source": [
        "#Category with high sales and profit\n",
        "top_sales_profit[['category']].value_counts().plot.pie(autopct=\"%1.1f%%\", colors=['#A2BEDC', '#D26B9D', '#B793C9'])"
      ]
    },
    {
      "cell_type": "code",
      "execution_count": 439,
      "metadata": {},
      "outputs": [
        {
          "data": {
            "text/html": [
              "<div>\n",
              "<style scoped>\n",
              "    .dataframe tbody tr th:only-of-type {\n",
              "        vertical-align: middle;\n",
              "    }\n",
              "\n",
              "    .dataframe tbody tr th {\n",
              "        vertical-align: top;\n",
              "    }\n",
              "\n",
              "    .dataframe thead th {\n",
              "        text-align: right;\n",
              "    }\n",
              "</style>\n",
              "<table border=\"1\" class=\"dataframe\">\n",
              "  <thead>\n",
              "    <tr style=\"text-align: right;\">\n",
              "      <th></th>\n",
              "      <th>subcategory</th>\n",
              "      <th>profit</th>\n",
              "    </tr>\n",
              "  </thead>\n",
              "  <tbody>\n",
              "    <tr>\n",
              "      <th>7</th>\n",
              "      <td>Chairs</td>\n",
              "      <td>746.4078</td>\n",
              "    </tr>\n",
              "    <tr>\n",
              "      <th>9</th>\n",
              "      <td>Binders</td>\n",
              "      <td>274.4910</td>\n",
              "    </tr>\n",
              "    <tr>\n",
              "      <th>12</th>\n",
              "      <td>Phones</td>\n",
              "      <td>204.1092</td>\n",
              "    </tr>\n",
              "    <tr>\n",
              "      <th>13</th>\n",
              "      <td>Phones</td>\n",
              "      <td>113.6742</td>\n",
              "    </tr>\n",
              "    <tr>\n",
              "      <th>21</th>\n",
              "      <td>Chairs</td>\n",
              "      <td>87.3504</td>\n",
              "    </tr>\n",
              "    <tr>\n",
              "      <th>26</th>\n",
              "      <td>Storage</td>\n",
              "      <td>238.6530</td>\n",
              "    </tr>\n",
              "    <tr>\n",
              "      <th>30</th>\n",
              "      <td>Storage</td>\n",
              "      <td>34.3548</td>\n",
              "    </tr>\n",
              "    <tr>\n",
              "      <th>33</th>\n",
              "      <td>Accessories</td>\n",
              "      <td>65.9780</td>\n",
              "    </tr>\n",
              "    <tr>\n",
              "      <th>41</th>\n",
              "      <td>Envelopes</td>\n",
              "      <td>36.6930</td>\n",
              "    </tr>\n",
              "    <tr>\n",
              "      <th>54</th>\n",
              "      <td>Appliances</td>\n",
              "      <td>93.5816</td>\n",
              "    </tr>\n",
              "    <tr>\n",
              "      <th>68</th>\n",
              "      <td>Phones</td>\n",
              "      <td>52.6344</td>\n",
              "    </tr>\n",
              "    <tr>\n",
              "      <th>91</th>\n",
              "      <td>Phones</td>\n",
              "      <td>42.0186</td>\n",
              "    </tr>\n",
              "    <tr>\n",
              "      <th>125</th>\n",
              "      <td>Chairs</td>\n",
              "      <td>51.4764</td>\n",
              "    </tr>\n",
              "    <tr>\n",
              "      <th>156</th>\n",
              "      <td>Chairs</td>\n",
              "      <td>54.1764</td>\n",
              "    </tr>\n",
              "    <tr>\n",
              "      <th>180</th>\n",
              "      <td>Chairs</td>\n",
              "      <td>284.9800</td>\n",
              "    </tr>\n",
              "  </tbody>\n",
              "</table>\n",
              "</div>"
            ],
            "text/plain": [
              "     subcategory    profit\n",
              "7         Chairs  746.4078\n",
              "9        Binders  274.4910\n",
              "12        Phones  204.1092\n",
              "13        Phones  113.6742\n",
              "21        Chairs   87.3504\n",
              "26       Storage  238.6530\n",
              "30       Storage   34.3548\n",
              "33   Accessories   65.9780\n",
              "41     Envelopes   36.6930\n",
              "54    Appliances   93.5816\n",
              "68        Phones   52.6344\n",
              "91        Phones   42.0186\n",
              "125       Chairs   51.4764\n",
              "156       Chairs   54.1764\n",
              "180       Chairs  284.9800"
            ]
          },
          "execution_count": 439,
          "metadata": {},
          "output_type": "execute_result"
        }
      ],
      "source": [
        "pivot_table = top_sales_profit.groupby('category')[['subcategory','profit']].head()\n",
        "pivot_table"
      ]
    },
    {
      "cell_type": "markdown",
      "metadata": {},
      "source": [
        "The data of products with highest sales and profits as shown above can be used in sales strategies and can enhance profitability"
      ]
    },
    {
      "cell_type": "markdown",
      "metadata": {},
      "source": [
        "---"
      ]
    },
    {
      "cell_type": "markdown",
      "metadata": {},
      "source": [
        "**Underperforming Product Analysis**"
      ]
    },
    {
      "cell_type": "code",
      "execution_count": 305,
      "metadata": {
        "colab": {
          "base_uri": "https://localhost:8080/"
        },
        "id": "LHpRr4xGhHIa",
        "outputId": "27dec3f4-d2be-44eb-efbd-563f2935f1ca"
      },
      "outputs": [
        {
          "name": "stdout",
          "output_type": "stream",
          "text": [
            "                                           product_name  profit_per_product\n",
            "6272          Cubify CubeX 3D Printer Double Head Print          -1319.9956\n",
            "3952          Cubify CubeX 3D Printer Double Head Print          -1319.9956\n",
            "9141          Cubify CubeX 3D Printer Triple Head Print           -959.9976\n",
            "7295          Lexmark MX611dhe Monochrome Laser Printer           -679.9960\n",
            "9658               Ibico EPK-21 Electric Binding System           -585.8969\n",
            "4476          GBC DocuBind P400 Electric Binding System           -462.7366\n",
            "808           GBC DocuBind P400 Electric Binding System           -462.7366\n",
            "8487  Fellowes PB500 Electric Punch Plastic Comb Bin...           -381.2970\n",
            "9371  Fellowes PB500 Electric Punch Plastic Comb Bin...           -381.2970\n",
            "8939          GBC DocuBind P400 Electric Binding System           -326.6376\n"
          ]
        }
      ],
      "source": [
        "low_products = data.sort_values(by='profit_per_product', ascending=True).head(10)\n",
        "\n",
        "print(low_products[['product_name', 'profit_per_product']])"
      ]
    },
    {
      "cell_type": "code",
      "execution_count": 399,
      "metadata": {},
      "outputs": [
        {
          "data": {
            "text/html": [
              "<div>\n",
              "<style scoped>\n",
              "    .dataframe tbody tr th:only-of-type {\n",
              "        vertical-align: middle;\n",
              "    }\n",
              "\n",
              "    .dataframe tbody tr th {\n",
              "        vertical-align: top;\n",
              "    }\n",
              "\n",
              "    .dataframe thead th {\n",
              "        text-align: right;\n",
              "    }\n",
              "</style>\n",
              "<table border=\"1\" class=\"dataframe\">\n",
              "  <thead>\n",
              "    <tr style=\"text-align: right;\">\n",
              "      <th></th>\n",
              "      <th>product_name</th>\n",
              "      <th>profit</th>\n",
              "    </tr>\n",
              "  </thead>\n",
              "  <tbody>\n",
              "    <tr>\n",
              "      <th>6272</th>\n",
              "      <td>Cubify CubeX 3D Printer Double Head Print</td>\n",
              "      <td>-6599.9780</td>\n",
              "    </tr>\n",
              "    <tr>\n",
              "      <th>9141</th>\n",
              "      <td>Cubify CubeX 3D Printer Triple Head Print</td>\n",
              "      <td>-3839.9904</td>\n",
              "    </tr>\n",
              "    <tr>\n",
              "      <th>9658</th>\n",
              "      <td>Ibico EPK-21 Electric Binding System</td>\n",
              "      <td>-2929.4845</td>\n",
              "    </tr>\n",
              "    <tr>\n",
              "      <th>3952</th>\n",
              "      <td>Cubify CubeX 3D Printer Double Head Print</td>\n",
              "      <td>-2639.9912</td>\n",
              "    </tr>\n",
              "    <tr>\n",
              "      <th>219</th>\n",
              "      <td>Cisco TelePresence System EX90 Videoconferenci...</td>\n",
              "      <td>-1811.0784</td>\n",
              "    </tr>\n",
              "    <tr>\n",
              "      <th>1999</th>\n",
              "      <td>Cisco 9971 IP Video Phone Charcoal</td>\n",
              "      <td>-950.4000</td>\n",
              "    </tr>\n",
              "    <tr>\n",
              "      <th>1127</th>\n",
              "      <td>HP Designjet T520 Inkjet Large Format Printer ...</td>\n",
              "      <td>-944.9946</td>\n",
              "    </tr>\n",
              "    <tr>\n",
              "      <th>5797</th>\n",
              "      <td>Zebra GK420t Direct Thermal/Thermal Transfer P...</td>\n",
              "      <td>-938.2800</td>\n",
              "    </tr>\n",
              "    <tr>\n",
              "      <th>9292</th>\n",
              "      <td>Epson TM-T88V Direct Thermal Printer - Monochr...</td>\n",
              "      <td>-935.9595</td>\n",
              "    </tr>\n",
              "    <tr>\n",
              "      <th>4273</th>\n",
              "      <td>High Speed Automatic Electric Letter Opener</td>\n",
              "      <td>-786.0144</td>\n",
              "    </tr>\n",
              "    <tr>\n",
              "      <th>4349</th>\n",
              "      <td>Okidata MB491 Multifunction Printer</td>\n",
              "      <td>-643.7100</td>\n",
              "    </tr>\n",
              "    <tr>\n",
              "      <th>1047</th>\n",
              "      <td>3D Systems Cube Printer, 2nd Generation, White</td>\n",
              "      <td>-571.9956</td>\n",
              "    </tr>\n",
              "    <tr>\n",
              "      <th>8434</th>\n",
              "      <td>BoxOffice By Design Rectangular and Half-Moon ...</td>\n",
              "      <td>-566.5625</td>\n",
              "    </tr>\n",
              "    <tr>\n",
              "      <th>8930</th>\n",
              "      <td>Swingline SM12-08 MicroCut Jam Free Shredder</td>\n",
              "      <td>-479.9880</td>\n",
              "    </tr>\n",
              "    <tr>\n",
              "      <th>9770</th>\n",
              "      <td>BoxOffice By Design Rectangular and Half-Moon ...</td>\n",
              "      <td>-420.0000</td>\n",
              "    </tr>\n",
              "    <tr>\n",
              "      <th>6623</th>\n",
              "      <td>Panasonic KX MC6040 Color Laser Multifunction ...</td>\n",
              "      <td>-386.9570</td>\n",
              "    </tr>\n",
              "    <tr>\n",
              "      <th>8450</th>\n",
              "      <td>Samsung Galaxy Note 2</td>\n",
              "      <td>-386.3916</td>\n",
              "    </tr>\n",
              "    <tr>\n",
              "      <th>4033</th>\n",
              "      <td>Swingline SM12-08 MicroCut Jam Free Shredder</td>\n",
              "      <td>-383.9904</td>\n",
              "    </tr>\n",
              "    <tr>\n",
              "      <th>2691</th>\n",
              "      <td>Sauder Forest Hills Library with Doors, Woodla...</td>\n",
              "      <td>-376.6932</td>\n",
              "    </tr>\n",
              "    <tr>\n",
              "      <th>6589</th>\n",
              "      <td>LG G2</td>\n",
              "      <td>-374.9925</td>\n",
              "    </tr>\n",
              "  </tbody>\n",
              "</table>\n",
              "</div>"
            ],
            "text/plain": [
              "                                           product_name     profit\n",
              "6272          Cubify CubeX 3D Printer Double Head Print -6599.9780\n",
              "9141          Cubify CubeX 3D Printer Triple Head Print -3839.9904\n",
              "9658               Ibico EPK-21 Electric Binding System -2929.4845\n",
              "3952          Cubify CubeX 3D Printer Double Head Print -2639.9912\n",
              "219   Cisco TelePresence System EX90 Videoconferenci... -1811.0784\n",
              "1999                 Cisco 9971 IP Video Phone Charcoal  -950.4000\n",
              "1127  HP Designjet T520 Inkjet Large Format Printer ...  -944.9946\n",
              "5797  Zebra GK420t Direct Thermal/Thermal Transfer P...  -938.2800\n",
              "9292  Epson TM-T88V Direct Thermal Printer - Monochr...  -935.9595\n",
              "4273        High Speed Automatic Electric Letter Opener  -786.0144\n",
              "4349                Okidata MB491 Multifunction Printer  -643.7100\n",
              "1047     3D Systems Cube Printer, 2nd Generation, White  -571.9956\n",
              "8434  BoxOffice By Design Rectangular and Half-Moon ...  -566.5625\n",
              "8930       Swingline SM12-08 MicroCut Jam Free Shredder  -479.9880\n",
              "9770  BoxOffice By Design Rectangular and Half-Moon ...  -420.0000\n",
              "6623  Panasonic KX MC6040 Color Laser Multifunction ...  -386.9570\n",
              "8450                              Samsung Galaxy Note 2  -386.3916\n",
              "4033       Swingline SM12-08 MicroCut Jam Free Shredder  -383.9904\n",
              "2691  Sauder Forest Hills Library with Doors, Woodla...  -376.6932\n",
              "6589                                              LG G2  -374.9925"
            ]
          },
          "execution_count": 399,
          "metadata": {},
          "output_type": "execute_result"
        }
      ],
      "source": [
        "#Filter products based on low sales and low profits\n",
        "product_count = data['product_name'].value_counts()\n",
        "\n",
        "product_threshold = product_count.quantile(0.25)\n",
        "profit_threshold = data['profit'].quantile(0.25)\n",
        "\n",
        "low_sales_low_profit = data[(data['product_name'].isin(product_count.index[product_count <= product_threshold])) &\n",
        "                          (data['profit'] <= profit_threshold)]\n",
        "low_sales_low_profit.sort_values(by='profit', ascending=True)[['product_name','profit']].head(20)"
      ]
    },
    {
      "cell_type": "code",
      "execution_count": 406,
      "metadata": {},
      "outputs": [
        {
          "data": {
            "text/html": [
              "<div>\n",
              "<style scoped>\n",
              "    .dataframe tbody tr th:only-of-type {\n",
              "        vertical-align: middle;\n",
              "    }\n",
              "\n",
              "    .dataframe tbody tr th {\n",
              "        vertical-align: top;\n",
              "    }\n",
              "\n",
              "    .dataframe thead th {\n",
              "        text-align: right;\n",
              "    }\n",
              "</style>\n",
              "<table border=\"1\" class=\"dataframe\">\n",
              "  <thead>\n",
              "    <tr style=\"text-align: right;\">\n",
              "      <th></th>\n",
              "      <th>category</th>\n",
              "      <th>subcategory</th>\n",
              "      <th>profit</th>\n",
              "    </tr>\n",
              "  </thead>\n",
              "  <tbody>\n",
              "    <tr>\n",
              "      <th>6272</th>\n",
              "      <td>Technology</td>\n",
              "      <td>Machines</td>\n",
              "      <td>-6599.9780</td>\n",
              "    </tr>\n",
              "    <tr>\n",
              "      <th>9141</th>\n",
              "      <td>Technology</td>\n",
              "      <td>Machines</td>\n",
              "      <td>-3839.9904</td>\n",
              "    </tr>\n",
              "    <tr>\n",
              "      <th>9658</th>\n",
              "      <td>Office Supplies</td>\n",
              "      <td>Binders</td>\n",
              "      <td>-2929.4845</td>\n",
              "    </tr>\n",
              "    <tr>\n",
              "      <th>3952</th>\n",
              "      <td>Technology</td>\n",
              "      <td>Machines</td>\n",
              "      <td>-2639.9912</td>\n",
              "    </tr>\n",
              "    <tr>\n",
              "      <th>219</th>\n",
              "      <td>Technology</td>\n",
              "      <td>Machines</td>\n",
              "      <td>-1811.0784</td>\n",
              "    </tr>\n",
              "    <tr>\n",
              "      <th>1999</th>\n",
              "      <td>Technology</td>\n",
              "      <td>Machines</td>\n",
              "      <td>-950.4000</td>\n",
              "    </tr>\n",
              "    <tr>\n",
              "      <th>4273</th>\n",
              "      <td>Office Supplies</td>\n",
              "      <td>Supplies</td>\n",
              "      <td>-786.0144</td>\n",
              "    </tr>\n",
              "    <tr>\n",
              "      <th>8434</th>\n",
              "      <td>Furniture</td>\n",
              "      <td>Tables</td>\n",
              "      <td>-566.5625</td>\n",
              "    </tr>\n",
              "    <tr>\n",
              "      <th>9770</th>\n",
              "      <td>Furniture</td>\n",
              "      <td>Tables</td>\n",
              "      <td>-420.0000</td>\n",
              "    </tr>\n",
              "    <tr>\n",
              "      <th>2691</th>\n",
              "      <td>Furniture</td>\n",
              "      <td>Bookcases</td>\n",
              "      <td>-376.6932</td>\n",
              "    </tr>\n",
              "    <tr>\n",
              "      <th>5732</th>\n",
              "      <td>Office Supplies</td>\n",
              "      <td>Appliances</td>\n",
              "      <td>-251.1864</td>\n",
              "    </tr>\n",
              "    <tr>\n",
              "      <th>3659</th>\n",
              "      <td>Furniture</td>\n",
              "      <td>Bookcases</td>\n",
              "      <td>-247.7988</td>\n",
              "    </tr>\n",
              "    <tr>\n",
              "      <th>4236</th>\n",
              "      <td>Office Supplies</td>\n",
              "      <td>Appliances</td>\n",
              "      <td>-225.5568</td>\n",
              "    </tr>\n",
              "    <tr>\n",
              "      <th>8683</th>\n",
              "      <td>Office Supplies</td>\n",
              "      <td>Appliances</td>\n",
              "      <td>-197.5752</td>\n",
              "    </tr>\n",
              "    <tr>\n",
              "      <th>5816</th>\n",
              "      <td>Furniture</td>\n",
              "      <td>Bookcases</td>\n",
              "      <td>-190.8522</td>\n",
              "    </tr>\n",
              "  </tbody>\n",
              "</table>\n",
              "</div>"
            ],
            "text/plain": [
              "             category subcategory     profit\n",
              "6272       Technology    Machines -6599.9780\n",
              "9141       Technology    Machines -3839.9904\n",
              "9658  Office Supplies     Binders -2929.4845\n",
              "3952       Technology    Machines -2639.9912\n",
              "219        Technology    Machines -1811.0784\n",
              "1999       Technology    Machines  -950.4000\n",
              "4273  Office Supplies    Supplies  -786.0144\n",
              "8434        Furniture      Tables  -566.5625\n",
              "9770        Furniture      Tables  -420.0000\n",
              "2691        Furniture   Bookcases  -376.6932\n",
              "5732  Office Supplies  Appliances  -251.1864\n",
              "3659        Furniture   Bookcases  -247.7988\n",
              "4236  Office Supplies  Appliances  -225.5568\n",
              "8683  Office Supplies  Appliances  -197.5752\n",
              "5816        Furniture   Bookcases  -190.8522"
            ]
          },
          "execution_count": 406,
          "metadata": {},
          "output_type": "execute_result"
        }
      ],
      "source": [
        "#Filter category based on low sales and low profits\n",
        "low_sales_low_profit.sort_values(by='profit')[['category','subcategory','profit']].groupby('category').head()"
      ]
    },
    {
      "cell_type": "markdown",
      "metadata": {
        "id": "hbuL5apFh2WE"
      },
      "source": [
        "## Customer Analysis"
      ]
    },
    {
      "cell_type": "code",
      "execution_count": 21,
      "metadata": {
        "colab": {
          "base_uri": "https://localhost:8080/"
        },
        "id": "afpV7fsLiB0A",
        "outputId": "1f4f9a4a-051e-4a1e-90fb-068abc4f3e0b"
      },
      "outputs": [
        {
          "data": {
            "text/plain": [
              "793"
            ]
          },
          "execution_count": 21,
          "metadata": {},
          "output_type": "execute_result"
        }
      ],
      "source": [
        "data['customer'].nunique()"
      ]
    },
    {
      "cell_type": "code",
      "execution_count": 22,
      "metadata": {
        "colab": {
          "base_uri": "https://localhost:8080/"
        },
        "id": "mVUgPS0qieqQ",
        "outputId": "624bfd9a-4435-4147-9b16-90ae61d008ab"
      },
      "outputs": [
        {
          "data": {
            "text/plain": [
              "customer\n",
              "William Brown          37\n",
              "John Lee               34\n",
              "Matt Abelman           34\n",
              "Paul Prost             34\n",
              "Chloris Kastensmidt    32\n",
              "Jonathan Doherty       32\n",
              "Seth Vernon            32\n",
              "Edward Hooks           32\n",
              "Zuschuss Carroll       31\n",
              "Emily Phan             31\n",
              "Name: count, dtype: int64"
            ]
          },
          "execution_count": 22,
          "metadata": {},
          "output_type": "execute_result"
        }
      ],
      "source": [
        "#Top 10 customers who order frequently\n",
        "top10_customer = data['customer'].value_counts().head(10)\n",
        "top10_customer"
      ]
    },
    {
      "cell_type": "code",
      "execution_count": 23,
      "metadata": {
        "id": "mL9Wt7YXi0i5"
      },
      "outputs": [],
      "source": [
        "segment_value=data['segment'].value_counts()"
      ]
    },
    {
      "cell_type": "code",
      "execution_count": 32,
      "metadata": {
        "colab": {
          "base_uri": "https://localhost:8080/",
          "height": 718
        },
        "id": "zdaPqP4rjv4-",
        "outputId": "de44b442-c03b-4956-9c57-2d889abdd3d2"
      },
      "outputs": [
        {
          "data": {
            "image/png": "[encoded data removed]",
            "text/plain": [
              "<Figure size 1400x800 with 1 Axes>"
            ]
          },
          "metadata": {},
          "output_type": "display_data"
        }
      ],
      "source": [
        "plt.figure(figsize=(14, 8))\n",
        "plt.bar(segment_value.index, segment_value.values, color='#A2BEDC')\n",
        "plt.xlabel('Segment')\n",
        "plt.ylabel('Count')\n",
        "plt.title('Count of Each Segment')\n",
        "plt.show()"
      ]
    },
    {
      "cell_type": "markdown",
      "metadata": {
        "id": "tKMLWhYjknKH"
      },
      "source": [
        "Consumer is the highest segment"
      ]
    },
    {
      "cell_type": "code",
      "execution_count": 25,
      "metadata": {
        "colab": {
          "base_uri": "https://localhost:8080/",
          "height": 817
        },
        "id": "xnwR6FzLkuA7",
        "outputId": "45edb0ae-727b-4902-8316-f32ad93059ab"
      },
      "outputs": [
        {
          "data": {
            "image/png": "[encoded data removed]",
            "text/plain": [
              "<Figure size 800x500 with 1 Axes>"
            ]
          },
          "metadata": {},
          "output_type": "display_data"
        }
      ],
      "source": [
        "#Top 10 Customers who benefitted the store\n",
        "sorted_profit = data.sort_values(by='profit', ascending=False).head(10)\n",
        "plt.figure(figsize=(8, 5))\n",
        "plt.bar(\"customer\", \"profit\", data=sorted_profit)\n",
        "plt.xlabel('Customer')\n",
        "plt.ylabel('Profit')\n",
        "plt.title('Top 10 Profitable Customers')\n",
        "plt.xticks(rotation=45)\n",
        "plt.show()"
      ]
    },
    {
      "cell_type": "markdown",
      "metadata": {
        "id": "Yrkl6fqOPA1p"
      },
      "source": [
        "Export Final Data"
      ]
    },
    {
      "cell_type": "code",
      "execution_count": null,
      "metadata": {
        "id": "or3qMFYLh6jy"
      },
      "outputs": [],
      "source": []
    },
    {
      "cell_type": "code",
      "execution_count": 26,
      "metadata": {
        "id": "yRwpkAVAnNBZ"
      },
      "outputs": [],
      "source": [
        "#Export the final dataframe\n",
        "#data.to_csv('superstore_dataset_final.csv', index=False)"
      ]
    }
  ],
  "metadata": {
    "colab": {
      "collapsed_sections": [
        "p2wBGSDdjY12"
      ],
      "provenance": []
    },
    "kernelspec": {
      "display_name": "Python 3",
      "name": "python3"
    },
    "language_info": {
      "codemirror_mode": {
        "name": "ipython",
        "version": 3
      },
      "file_extension": ".py",
      "mimetype": "text/x-python",
      "name": "python",
      "nbconvert_exporter": "python",
      "pygments_lexer": "ipython3",
      "version": "3.11.9"
    }
  },
  "nbformat": 4,
  "nbformat_minor": 0
}
